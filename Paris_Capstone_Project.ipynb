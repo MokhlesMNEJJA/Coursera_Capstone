{
    "nbformat_minor": 1, 
    "cells": [
        {
            "source": "### Introduction/Business Problem", 
            "cell_type": "markdown", 
            "metadata": {
                "collapsed": true
            }
        }, 
        {
            "source": "I am going to solve a problem posed by a client named Mike. He is an American citizen and he has recently moved to live in Paris. Mike is highly impressed by the Paris, the capital of France. He discovered that the french bread is original and very famous here in the capital. Bakeries are everywhere in Paris from where you can smell the bread that comes out of the oven.\nMike passionate about business and investment and comes to his mind to open a bakery in Paris. Unfortunately, as he is new in the city,he has no idea where to start his new business. The only things that he knows, it that Paris is divided into 20 districts (\"Arrondissement\"). Therefore, he needs to choose a district from the 20th. That's why, he asked my help as he knows that I have started data science business recently.\n", 
            "cell_type": "markdown", 
            "metadata": {}
        }, 
        {
            "source": "### Data", 
            "cell_type": "markdown", 
            "metadata": {}
        }, 
        {
            "source": "To solve the problem of, in which district should I suggest my friend Mike to open his bakery and start his new business, I need to collect some data. I will use Foursquare API to explore the venues in all the 20 district of Paris and of course, I will focus on searching bakeries established in all the Paris area (20 districts).\nBesides, I am going GPS website to find the coordinates (Latitude and Longititude) of all the 20 districts. I used as reference the location of the \"Mairie\" of each district. The two websites that I used are https://www.coordonnees-gps.fr and https://latitude.to.", 
            "cell_type": "markdown", 
            "metadata": {}
        }, 
        {
            "execution_count": null, 
            "cell_type": "code", 
            "metadata": {}, 
            "outputs": [], 
            "source": ""
        }
    ], 
    "metadata": {
        "kernelspec": {
            "display_name": "Python 3.5", 
            "name": "python3", 
            "language": "python"
        }, 
        "language_info": {
            "mimetype": "text/x-python", 
            "nbconvert_exporter": "python", 
            "version": "3.5.5", 
            "name": "python", 
            "file_extension": ".py", 
            "pygments_lexer": "ipython3", 
            "codemirror_mode": {
                "version": 3, 
                "name": "ipython"
            }
        }
    }, 
    "nbformat": 4
}